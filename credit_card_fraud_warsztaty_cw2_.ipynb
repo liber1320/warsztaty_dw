{
 "cells": [
  {
   "cell_type": "markdown",
   "metadata": {},
   "source": [
    "#          <center>   Fraudy </center>"
   ]
  },
  {
   "cell_type": "markdown",
   "metadata": {},
   "source": [
    "![title](img/f2.png)"
   ]
  },
  {
   "cell_type": "markdown",
   "metadata": {},
   "source": [
    " \n",
    "### Fraudy są: \n",
    " \n",
    "   #### - rzadkie\n",
    "   #### - ukryte\n",
    "   #### - zorganizowane \n",
    "   #### - zmieniające się w czasie\n",
    " "
   ]
  },
  {
   "cell_type": "markdown",
   "metadata": {},
   "source": [
    "![title](img/f1.png)"
   ]
  },
  {
   "cell_type": "markdown",
   "metadata": {
    "collapsed": true
   },
   "source": [
    "https://www.kaggle.com/mlg-ulb/creditcardfraud/ \n",
    "\n",
    "https://drive.google.com/open?id=109iyQMd7Y9iJ6py9Vy0Zf01ROMzzDCtd\n",
    "\n",
    "https://github.com/liber1320/warsztaty_dw/"
   ]
  },
  {
   "cell_type": "markdown",
   "metadata": {},
   "source": [
    "![title](img/t.png)"
   ]
  },
  {
   "cell_type": "code",
   "execution_count": 1,
   "metadata": {},
   "outputs": [
    {
     "data": {
      "text/plain": [
       "'C:\\\\Users\\\\ja\\\\OneDrive\\\\python\\\\road_to_ai'"
      ]
     },
     "execution_count": 1,
     "metadata": {},
     "output_type": "execute_result"
    }
   ],
   "source": [
    "import pandas as pd\n",
    "import numpy as np \n",
    "pd.set_option('display.max_columns', 100)\n",
    "\n",
    "import matplotlib.pyplot as plt \n",
    "%matplotlib inline\n",
    "import seaborn as sns\n",
    "\n",
    "from sklearn.model_selection import StratifiedShuffleSplit, StratifiedKFold\n",
    "from sklearn.model_selection import train_test_split, learning_curve\n",
    "from sklearn.base import clone\n",
    "from sklearn.metrics import accuracy_score, precision_score, recall_score, f1_score\n",
    "from sklearn.metrics import confusion_matrix, precision_recall_curve, classification_report\n",
    "from sklearn.preprocessing import RobustScaler, StandardScaler\n",
    "\n",
    "import zipfile\n",
    "import os\n",
    "\n",
    "import warnings\n",
    "warnings.filterwarnings('ignore')\n",
    "os.getcwd()"
   ]
  },
  {
   "cell_type": "markdown",
   "metadata": {},
   "source": [
    "### Wczytanie danych"
   ]
  },
  {
   "cell_type": "code",
   "execution_count": 2,
   "metadata": {
    "collapsed": true
   },
   "outputs": [],
   "source": [
    "FRAUD_PATH = os.path.join(\"FRAUD\", \"DATA\")\n",
    "FILE_PATH = os.path.join(os.getcwd(), \"creditcardfraud.zip\")\n",
    "\n",
    "def extract_data(fraud_path=FRAUD_PATH, file_path=FILE_PATH):\n",
    "    if not os.path.isdir(fraud_path):\n",
    "        os.makedirs(fraud_path)\n",
    "    zip_ref = zipfile.ZipFile(file_path,'r')\n",
    "    zip_ref.extractall(fraud_path)"
   ]
  },
  {
   "cell_type": "code",
   "execution_count": 17,
   "metadata": {
    "collapsed": true
   },
   "outputs": [],
   "source": [
    "extract_data()"
   ]
  },
  {
   "cell_type": "code",
   "execution_count": 2,
   "metadata": {
    "collapsed": true
   },
   "outputs": [],
   "source": [
    "FRAUD_PATH = os.path.join(\"FRAUD\", \"DATA\")\n",
    "path=os.path.join(FRAUD_PATH, 'creditcard.csv')\n",
    "\n",
    "df=pd.read_csv(path)"
   ]
  },
  {
   "cell_type": "markdown",
   "metadata": {},
   "source": [
    "#### Próbka danych"
   ]
  },
  {
   "cell_type": "code",
   "execution_count": 3,
   "metadata": {},
   "outputs": [
    {
     "data": {
      "text/html": [
       "<div>\n",
       "<style>\n",
       "    .dataframe thead tr:only-child th {\n",
       "        text-align: right;\n",
       "    }\n",
       "\n",
       "    .dataframe thead th {\n",
       "        text-align: left;\n",
       "    }\n",
       "\n",
       "    .dataframe tbody tr th {\n",
       "        vertical-align: top;\n",
       "    }\n",
       "</style>\n",
       "<table border=\"1\" class=\"dataframe\">\n",
       "  <thead>\n",
       "    <tr style=\"text-align: right;\">\n",
       "      <th></th>\n",
       "      <th>Time</th>\n",
       "      <th>V1</th>\n",
       "      <th>V2</th>\n",
       "      <th>V3</th>\n",
       "      <th>V4</th>\n",
       "      <th>V5</th>\n",
       "      <th>V6</th>\n",
       "      <th>V7</th>\n",
       "      <th>V8</th>\n",
       "      <th>V9</th>\n",
       "      <th>V10</th>\n",
       "      <th>V11</th>\n",
       "      <th>V12</th>\n",
       "      <th>V13</th>\n",
       "      <th>V14</th>\n",
       "      <th>V15</th>\n",
       "      <th>V16</th>\n",
       "      <th>V17</th>\n",
       "      <th>V18</th>\n",
       "      <th>V19</th>\n",
       "      <th>V20</th>\n",
       "      <th>V21</th>\n",
       "      <th>V22</th>\n",
       "      <th>V23</th>\n",
       "      <th>V24</th>\n",
       "      <th>V25</th>\n",
       "      <th>V26</th>\n",
       "      <th>V27</th>\n",
       "      <th>V28</th>\n",
       "      <th>Amount</th>\n",
       "      <th>Class</th>\n",
       "    </tr>\n",
       "  </thead>\n",
       "  <tbody>\n",
       "    <tr>\n",
       "      <th>152297</th>\n",
       "      <td>97235.0</td>\n",
       "      <td>-0.570560</td>\n",
       "      <td>1.030705</td>\n",
       "      <td>-0.262184</td>\n",
       "      <td>-0.894621</td>\n",
       "      <td>1.701081</td>\n",
       "      <td>-1.065216</td>\n",
       "      <td>1.644518</td>\n",
       "      <td>-0.561838</td>\n",
       "      <td>0.496247</td>\n",
       "      <td>-1.109056</td>\n",
       "      <td>0.169304</td>\n",
       "      <td>-2.349535</td>\n",
       "      <td>2.209732</td>\n",
       "      <td>1.959550</td>\n",
       "      <td>-0.687117</td>\n",
       "      <td>-0.761355</td>\n",
       "      <td>0.363855</td>\n",
       "      <td>-0.203679</td>\n",
       "      <td>-0.106232</td>\n",
       "      <td>-0.169606</td>\n",
       "      <td>0.065285</td>\n",
       "      <td>0.536861</td>\n",
       "      <td>-0.195483</td>\n",
       "      <td>0.618299</td>\n",
       "      <td>0.529330</td>\n",
       "      <td>0.170072</td>\n",
       "      <td>-0.073707</td>\n",
       "      <td>0.076690</td>\n",
       "      <td>11.00</td>\n",
       "      <td>0</td>\n",
       "    </tr>\n",
       "    <tr>\n",
       "      <th>57328</th>\n",
       "      <td>47863.0</td>\n",
       "      <td>-0.926834</td>\n",
       "      <td>0.959812</td>\n",
       "      <td>1.613691</td>\n",
       "      <td>0.939942</td>\n",
       "      <td>0.325792</td>\n",
       "      <td>-0.588327</td>\n",
       "      <td>0.926921</td>\n",
       "      <td>-0.116860</td>\n",
       "      <td>-1.235088</td>\n",
       "      <td>-0.029804</td>\n",
       "      <td>1.445954</td>\n",
       "      <td>0.606177</td>\n",
       "      <td>-0.038316</td>\n",
       "      <td>0.565458</td>\n",
       "      <td>0.270085</td>\n",
       "      <td>-0.281670</td>\n",
       "      <td>-0.263766</td>\n",
       "      <td>0.356338</td>\n",
       "      <td>0.778617</td>\n",
       "      <td>0.019811</td>\n",
       "      <td>0.100495</td>\n",
       "      <td>0.232795</td>\n",
       "      <td>-0.349369</td>\n",
       "      <td>0.560322</td>\n",
       "      <td>0.486607</td>\n",
       "      <td>-0.249783</td>\n",
       "      <td>-0.036232</td>\n",
       "      <td>0.055677</td>\n",
       "      <td>52.00</td>\n",
       "      <td>0</td>\n",
       "    </tr>\n",
       "    <tr>\n",
       "      <th>77768</th>\n",
       "      <td>57202.0</td>\n",
       "      <td>0.743239</td>\n",
       "      <td>-2.015629</td>\n",
       "      <td>-0.184526</td>\n",
       "      <td>-1.104168</td>\n",
       "      <td>-0.890931</td>\n",
       "      <td>0.935650</td>\n",
       "      <td>-0.544564</td>\n",
       "      <td>0.130709</td>\n",
       "      <td>-2.041836</td>\n",
       "      <td>1.028126</td>\n",
       "      <td>0.708449</td>\n",
       "      <td>0.255150</td>\n",
       "      <td>1.249162</td>\n",
       "      <td>-0.349659</td>\n",
       "      <td>0.606128</td>\n",
       "      <td>-2.349979</td>\n",
       "      <td>2.150293</td>\n",
       "      <td>-2.435239</td>\n",
       "      <td>-1.723934</td>\n",
       "      <td>0.174423</td>\n",
       "      <td>0.124402</td>\n",
       "      <td>0.396591</td>\n",
       "      <td>-0.193040</td>\n",
       "      <td>-0.571432</td>\n",
       "      <td>0.244109</td>\n",
       "      <td>0.008834</td>\n",
       "      <td>0.038110</td>\n",
       "      <td>0.052177</td>\n",
       "      <td>313.40</td>\n",
       "      <td>0</td>\n",
       "    </tr>\n",
       "    <tr>\n",
       "      <th>212926</th>\n",
       "      <td>139042.0</td>\n",
       "      <td>-2.350225</td>\n",
       "      <td>2.461741</td>\n",
       "      <td>-0.327715</td>\n",
       "      <td>2.388222</td>\n",
       "      <td>-0.023057</td>\n",
       "      <td>0.156129</td>\n",
       "      <td>-0.448427</td>\n",
       "      <td>1.731689</td>\n",
       "      <td>-2.027364</td>\n",
       "      <td>-0.118725</td>\n",
       "      <td>-2.406129</td>\n",
       "      <td>-0.429137</td>\n",
       "      <td>-0.521015</td>\n",
       "      <td>1.282669</td>\n",
       "      <td>-1.442891</td>\n",
       "      <td>1.641929</td>\n",
       "      <td>-0.487512</td>\n",
       "      <td>0.021180</td>\n",
       "      <td>-2.110110</td>\n",
       "      <td>-0.757451</td>\n",
       "      <td>0.291302</td>\n",
       "      <td>0.003028</td>\n",
       "      <td>-0.047649</td>\n",
       "      <td>0.515181</td>\n",
       "      <td>0.037872</td>\n",
       "      <td>-0.220328</td>\n",
       "      <td>-0.815833</td>\n",
       "      <td>-0.146364</td>\n",
       "      <td>0.01</td>\n",
       "      <td>0</td>\n",
       "    </tr>\n",
       "    <tr>\n",
       "      <th>55332</th>\n",
       "      <td>46889.0</td>\n",
       "      <td>-0.605262</td>\n",
       "      <td>0.865170</td>\n",
       "      <td>-0.759127</td>\n",
       "      <td>-0.209291</td>\n",
       "      <td>2.116151</td>\n",
       "      <td>3.567202</td>\n",
       "      <td>0.147370</td>\n",
       "      <td>1.231199</td>\n",
       "      <td>-0.992012</td>\n",
       "      <td>-0.452010</td>\n",
       "      <td>-0.451497</td>\n",
       "      <td>-0.173420</td>\n",
       "      <td>0.032904</td>\n",
       "      <td>0.812958</td>\n",
       "      <td>1.165483</td>\n",
       "      <td>0.138781</td>\n",
       "      <td>-0.524327</td>\n",
       "      <td>0.626359</td>\n",
       "      <td>0.780315</td>\n",
       "      <td>0.175306</td>\n",
       "      <td>0.191706</td>\n",
       "      <td>0.188945</td>\n",
       "      <td>0.033208</td>\n",
       "      <td>0.997750</td>\n",
       "      <td>-0.043427</td>\n",
       "      <td>-0.319437</td>\n",
       "      <td>0.024007</td>\n",
       "      <td>0.100721</td>\n",
       "      <td>85.25</td>\n",
       "      <td>0</td>\n",
       "    </tr>\n",
       "  </tbody>\n",
       "</table>\n",
       "</div>"
      ],
      "text/plain": [
       "            Time        V1        V2        V3        V4        V5        V6  \\\n",
       "152297   97235.0 -0.570560  1.030705 -0.262184 -0.894621  1.701081 -1.065216   \n",
       "57328    47863.0 -0.926834  0.959812  1.613691  0.939942  0.325792 -0.588327   \n",
       "77768    57202.0  0.743239 -2.015629 -0.184526 -1.104168 -0.890931  0.935650   \n",
       "212926  139042.0 -2.350225  2.461741 -0.327715  2.388222 -0.023057  0.156129   \n",
       "55332    46889.0 -0.605262  0.865170 -0.759127 -0.209291  2.116151  3.567202   \n",
       "\n",
       "              V7        V8        V9       V10       V11       V12       V13  \\\n",
       "152297  1.644518 -0.561838  0.496247 -1.109056  0.169304 -2.349535  2.209732   \n",
       "57328   0.926921 -0.116860 -1.235088 -0.029804  1.445954  0.606177 -0.038316   \n",
       "77768  -0.544564  0.130709 -2.041836  1.028126  0.708449  0.255150  1.249162   \n",
       "212926 -0.448427  1.731689 -2.027364 -0.118725 -2.406129 -0.429137 -0.521015   \n",
       "55332   0.147370  1.231199 -0.992012 -0.452010 -0.451497 -0.173420  0.032904   \n",
       "\n",
       "             V14       V15       V16       V17       V18       V19       V20  \\\n",
       "152297  1.959550 -0.687117 -0.761355  0.363855 -0.203679 -0.106232 -0.169606   \n",
       "57328   0.565458  0.270085 -0.281670 -0.263766  0.356338  0.778617  0.019811   \n",
       "77768  -0.349659  0.606128 -2.349979  2.150293 -2.435239 -1.723934  0.174423   \n",
       "212926  1.282669 -1.442891  1.641929 -0.487512  0.021180 -2.110110 -0.757451   \n",
       "55332   0.812958  1.165483  0.138781 -0.524327  0.626359  0.780315  0.175306   \n",
       "\n",
       "             V21       V22       V23       V24       V25       V26       V27  \\\n",
       "152297  0.065285  0.536861 -0.195483  0.618299  0.529330  0.170072 -0.073707   \n",
       "57328   0.100495  0.232795 -0.349369  0.560322  0.486607 -0.249783 -0.036232   \n",
       "77768   0.124402  0.396591 -0.193040 -0.571432  0.244109  0.008834  0.038110   \n",
       "212926  0.291302  0.003028 -0.047649  0.515181  0.037872 -0.220328 -0.815833   \n",
       "55332   0.191706  0.188945  0.033208  0.997750 -0.043427 -0.319437  0.024007   \n",
       "\n",
       "             V28  Amount  Class  \n",
       "152297  0.076690   11.00      0  \n",
       "57328   0.055677   52.00      0  \n",
       "77768   0.052177  313.40      0  \n",
       "212926 -0.146364    0.01      0  \n",
       "55332   0.100721   85.25      0  "
      ]
     },
     "execution_count": 3,
     "metadata": {},
     "output_type": "execute_result"
    }
   ],
   "source": [
    "df.sample(5)"
   ]
  },
  {
   "cell_type": "markdown",
   "metadata": {},
   "source": [
    "#### Rozkład zmiennej docelowej"
   ]
  },
  {
   "cell_type": "code",
   "execution_count": 4,
   "metadata": {},
   "outputs": [
    {
     "data": {
      "text/plain": [
       "0    284315\n",
       "1       492\n",
       "Name: Class, dtype: int64"
      ]
     },
     "execution_count": 4,
     "metadata": {},
     "output_type": "execute_result"
    }
   ],
   "source": [
    "df['Class'].value_counts()"
   ]
  },
  {
   "cell_type": "code",
   "execution_count": 5,
   "metadata": {},
   "outputs": [
    {
     "data": {
      "text/plain": [
       "0.1727485630620034"
      ]
     },
     "execution_count": 5,
     "metadata": {},
     "output_type": "execute_result"
    }
   ],
   "source": [
    "df['Class'].value_counts(normalize=True)[1]*100"
   ]
  },
  {
   "cell_type": "markdown",
   "metadata": {},
   "source": [
    "###  Modele"
   ]
  },
  {
   "cell_type": "code",
   "execution_count": 43,
   "metadata": {
    "collapsed": true
   },
   "outputs": [],
   "source": [
    "from sklearn.dummy import DummyClassifier\n",
    "from sklearn.tree import DecisionTreeClassifier\n",
    "from sklearn.ensemble import RandomForestClassifier, GradientBoostingClassifier\n",
    "from sklearn.linear_model import LogisticRegression\n",
    "import xgboost as xgb"
   ]
  },
  {
   "cell_type": "code",
   "execution_count": 4,
   "metadata": {
    "collapsed": true
   },
   "outputs": [],
   "source": [
    "X = df.loc[:, df.columns!='Class'].values \n",
    "y = df['Class'].values"
   ]
  },
  {
   "cell_type": "code",
   "execution_count": 5,
   "metadata": {
    "collapsed": true
   },
   "outputs": [],
   "source": [
    "X_train, X_test, y_train, y_test = train_test_split(X, y, test_size=0.3, random_state=2019)"
   ]
  },
  {
   "cell_type": "code",
   "execution_count": 6,
   "metadata": {
    "collapsed": true
   },
   "outputs": [],
   "source": [
    "def train_and_predict(model, X, y, test_size=0.3, matrix=False):\n",
    "    \n",
    "    X_train, X_test, y_train, y_test = train_test_split(X,y, test_size=test_size,random_state=2019)    \n",
    "    \n",
    "    model.fit(X_train, y_train)\n",
    "    y_pred = model.predict(X_test)\n",
    "    \n",
    "    acc= np.round(accuracy_score(y_test, y_pred),3)\n",
    "    prec= np.round(precision_score(y_test, y_pred),3)\n",
    "    recc= np.round(recall_score(y_test, y_pred),3)\n",
    "    f1= np.round(f1_score(y_test, y_pred),3)\n",
    "    \n",
    "    if matrix==True:\n",
    "        print('confusion matrix','\\n',confusion_matrix(y_test,y_pred))    \n",
    "    return np.round((acc, recc, prec, f1),3)"
   ]
  },
  {
   "cell_type": "code",
   "execution_count": 21,
   "metadata": {},
   "outputs": [
    {
     "name": "stdout",
     "output_type": "stream",
     "text": [
      "     Model      (accuracy, recall, precision, f1)  \n",
      "DummyClassifier (0.997, 0.0, 0.0, 0.0)\n",
      "LogisticRegression (0.999, 0.699, 0.748, 0.723)\n",
      "DecisionTreeClassifier (0.999, 0.797, 0.753, 0.775)\n",
      "RandomForestClassifier (1.0, 0.804, 0.918, 0.857)\n",
      "XGBClassifier (0.999, 0.784, 0.889, 0.833)\n",
      "GradientBoostingClassifier (0.999, 0.712, 0.865, 0.781)\n"
     ]
    }
   ],
   "source": [
    "models=[DummyClassifier(random_state=2019),\n",
    "        LogisticRegression(random_state=2019),\n",
    "        DecisionTreeClassifier(random_state=2019),\n",
    "        RandomForestClassifier(random_state=2019),\n",
    "        xgb.XGBClassifier(random_state=2019),\n",
    "        GradientBoostingClassifier(random_state=2019)]\n",
    "\n",
    "print('     Model      (accuracy, recall, precision, f1)  ')\n",
    "for m in models:\n",
    "    print(type(m).__name__, train_and_predict(m, X, y, test_size=0.3))"
   ]
  },
  {
   "cell_type": "markdown",
   "metadata": {},
   "source": [
    "#### Feature engineering"
   ]
  },
  {
   "cell_type": "code",
   "execution_count": 4,
   "metadata": {
    "collapsed": true
   },
   "outputs": [],
   "source": [
    "def feature_eng(df):   \n",
    "    df['Amount_scaled'] = RobustScaler().fit_transform(df[['Amount']])\n",
    "    df['Amount_1']= df['Amount'].apply(lambda x: 1 if x==1 else 0)\n",
    "    df['Amount_100']= df['Amount'].apply(lambda x: 1 if x==100 else 0)\n",
    "    df['Day']=df['Time'].apply(lambda x: 1 if x<=86400 else 2)\n",
    "    df['Day_time']=df['Time'].apply(lambda x: x if x<=86400 else x-86400)\n",
    "    return df"
   ]
  },
  {
   "cell_type": "code",
   "execution_count": 5,
   "metadata": {},
   "outputs": [
    {
     "name": "stdout",
     "output_type": "stream",
     "text": [
      "(284807, 36)\n"
     ]
    }
   ],
   "source": [
    "df=feature_eng(df)\n",
    "print(df.shape)"
   ]
  },
  {
   "cell_type": "code",
   "execution_count": 5,
   "metadata": {},
   "outputs": [
    {
     "data": {
      "text/html": [
       "<div>\n",
       "<style>\n",
       "    .dataframe thead tr:only-child th {\n",
       "        text-align: right;\n",
       "    }\n",
       "\n",
       "    .dataframe thead th {\n",
       "        text-align: left;\n",
       "    }\n",
       "\n",
       "    .dataframe tbody tr th {\n",
       "        vertical-align: top;\n",
       "    }\n",
       "</style>\n",
       "<table border=\"1\" class=\"dataframe\">\n",
       "  <thead>\n",
       "    <tr style=\"text-align: right;\">\n",
       "      <th></th>\n",
       "      <th>Time</th>\n",
       "      <th>V1</th>\n",
       "      <th>V2</th>\n",
       "      <th>V3</th>\n",
       "      <th>V4</th>\n",
       "      <th>V5</th>\n",
       "      <th>V6</th>\n",
       "      <th>V7</th>\n",
       "      <th>V8</th>\n",
       "      <th>V9</th>\n",
       "      <th>V10</th>\n",
       "      <th>V11</th>\n",
       "      <th>V12</th>\n",
       "      <th>V13</th>\n",
       "      <th>V14</th>\n",
       "      <th>V15</th>\n",
       "      <th>V16</th>\n",
       "      <th>V17</th>\n",
       "      <th>V18</th>\n",
       "      <th>V19</th>\n",
       "      <th>V20</th>\n",
       "      <th>V21</th>\n",
       "      <th>V22</th>\n",
       "      <th>V23</th>\n",
       "      <th>V24</th>\n",
       "      <th>V25</th>\n",
       "      <th>V26</th>\n",
       "      <th>V27</th>\n",
       "      <th>V28</th>\n",
       "      <th>Amount</th>\n",
       "      <th>Class</th>\n",
       "      <th>Amount_scaled</th>\n",
       "      <th>Amount_1</th>\n",
       "      <th>Amount_100</th>\n",
       "      <th>Day</th>\n",
       "      <th>Day_time</th>\n",
       "    </tr>\n",
       "  </thead>\n",
       "  <tbody>\n",
       "    <tr>\n",
       "      <th>227330</th>\n",
       "      <td>145032.0</td>\n",
       "      <td>2.065855</td>\n",
       "      <td>0.096493</td>\n",
       "      <td>-1.884878</td>\n",
       "      <td>0.187637</td>\n",
       "      <td>0.712314</td>\n",
       "      <td>-0.278030</td>\n",
       "      <td>0.074736</td>\n",
       "      <td>-0.060307</td>\n",
       "      <td>0.262613</td>\n",
       "      <td>-0.209653</td>\n",
       "      <td>0.702755</td>\n",
       "      <td>0.692501</td>\n",
       "      <td>0.096957</td>\n",
       "      <td>-0.683291</td>\n",
       "      <td>-0.463314</td>\n",
       "      <td>0.652735</td>\n",
       "      <td>0.044646</td>\n",
       "      <td>0.341933</td>\n",
       "      <td>0.524840</td>\n",
       "      <td>-0.126650</td>\n",
       "      <td>-0.344294</td>\n",
       "      <td>-0.918936</td>\n",
       "      <td>0.266853</td>\n",
       "      <td>-0.002485</td>\n",
       "      <td>-0.222503</td>\n",
       "      <td>0.184126</td>\n",
       "      <td>-0.066980</td>\n",
       "      <td>-0.045439</td>\n",
       "      <td>1.98</td>\n",
       "      <td>0</td>\n",
       "      <td>-0.279746</td>\n",
       "      <td>0</td>\n",
       "      <td>0</td>\n",
       "      <td>2</td>\n",
       "      <td>58632.0</td>\n",
       "    </tr>\n",
       "    <tr>\n",
       "      <th>6058</th>\n",
       "      <td>6864.0</td>\n",
       "      <td>-0.715086</td>\n",
       "      <td>0.820304</td>\n",
       "      <td>2.894118</td>\n",
       "      <td>0.866743</td>\n",
       "      <td>-0.468314</td>\n",
       "      <td>0.022323</td>\n",
       "      <td>0.036171</td>\n",
       "      <td>0.151536</td>\n",
       "      <td>1.531076</td>\n",
       "      <td>-1.122087</td>\n",
       "      <td>-0.124112</td>\n",
       "      <td>-2.819011</td>\n",
       "      <td>0.805014</td>\n",
       "      <td>1.133519</td>\n",
       "      <td>-0.618197</td>\n",
       "      <td>-0.049928</td>\n",
       "      <td>0.592028</td>\n",
       "      <td>0.494335</td>\n",
       "      <td>-0.154049</td>\n",
       "      <td>-0.115690</td>\n",
       "      <td>-0.166237</td>\n",
       "      <td>-0.131354</td>\n",
       "      <td>-0.264552</td>\n",
       "      <td>0.305702</td>\n",
       "      <td>0.280306</td>\n",
       "      <td>-0.412001</td>\n",
       "      <td>0.078148</td>\n",
       "      <td>0.078279</td>\n",
       "      <td>9.99</td>\n",
       "      <td>0</td>\n",
       "      <td>-0.167819</td>\n",
       "      <td>0</td>\n",
       "      <td>0</td>\n",
       "      <td>1</td>\n",
       "      <td>6864.0</td>\n",
       "    </tr>\n",
       "    <tr>\n",
       "      <th>146349</th>\n",
       "      <td>87621.0</td>\n",
       "      <td>-0.486079</td>\n",
       "      <td>0.643577</td>\n",
       "      <td>0.431553</td>\n",
       "      <td>-0.796935</td>\n",
       "      <td>1.071179</td>\n",
       "      <td>-0.788250</td>\n",
       "      <td>0.917475</td>\n",
       "      <td>-0.091066</td>\n",
       "      <td>-0.146180</td>\n",
       "      <td>-0.793587</td>\n",
       "      <td>-1.359071</td>\n",
       "      <td>-1.047534</td>\n",
       "      <td>-1.525397</td>\n",
       "      <td>0.688739</td>\n",
       "      <td>0.633574</td>\n",
       "      <td>-0.124710</td>\n",
       "      <td>-0.543460</td>\n",
       "      <td>0.403779</td>\n",
       "      <td>-0.131617</td>\n",
       "      <td>-0.132843</td>\n",
       "      <td>0.286305</td>\n",
       "      <td>0.712160</td>\n",
       "      <td>-0.413208</td>\n",
       "      <td>0.573718</td>\n",
       "      <td>0.428326</td>\n",
       "      <td>-0.105829</td>\n",
       "      <td>0.068605</td>\n",
       "      <td>0.122048</td>\n",
       "      <td>2.27</td>\n",
       "      <td>0</td>\n",
       "      <td>-0.275693</td>\n",
       "      <td>0</td>\n",
       "      <td>0</td>\n",
       "      <td>2</td>\n",
       "      <td>1221.0</td>\n",
       "    </tr>\n",
       "    <tr>\n",
       "      <th>222434</th>\n",
       "      <td>142969.0</td>\n",
       "      <td>-1.229895</td>\n",
       "      <td>0.850463</td>\n",
       "      <td>1.594567</td>\n",
       "      <td>3.059248</td>\n",
       "      <td>1.975758</td>\n",
       "      <td>0.087203</td>\n",
       "      <td>0.781401</td>\n",
       "      <td>-0.126484</td>\n",
       "      <td>-2.219570</td>\n",
       "      <td>1.392486</td>\n",
       "      <td>0.302855</td>\n",
       "      <td>-0.636077</td>\n",
       "      <td>-0.610993</td>\n",
       "      <td>0.429233</td>\n",
       "      <td>-0.551020</td>\n",
       "      <td>0.703127</td>\n",
       "      <td>-0.983837</td>\n",
       "      <td>0.574668</td>\n",
       "      <td>-0.467468</td>\n",
       "      <td>-0.088353</td>\n",
       "      <td>0.195361</td>\n",
       "      <td>0.615242</td>\n",
       "      <td>-0.727090</td>\n",
       "      <td>-0.384491</td>\n",
       "      <td>0.734687</td>\n",
       "      <td>0.370107</td>\n",
       "      <td>-0.198347</td>\n",
       "      <td>-0.207914</td>\n",
       "      <td>18.96</td>\n",
       "      <td>0</td>\n",
       "      <td>-0.042479</td>\n",
       "      <td>0</td>\n",
       "      <td>0</td>\n",
       "      <td>2</td>\n",
       "      <td>56569.0</td>\n",
       "    </tr>\n",
       "    <tr>\n",
       "      <th>120603</th>\n",
       "      <td>75885.0</td>\n",
       "      <td>1.246470</td>\n",
       "      <td>-0.410488</td>\n",
       "      <td>-0.344760</td>\n",
       "      <td>-0.318696</td>\n",
       "      <td>1.440593</td>\n",
       "      <td>3.953925</td>\n",
       "      <td>-1.211885</td>\n",
       "      <td>1.073593</td>\n",
       "      <td>0.798845</td>\n",
       "      <td>-0.177568</td>\n",
       "      <td>-0.505484</td>\n",
       "      <td>0.268522</td>\n",
       "      <td>0.000316</td>\n",
       "      <td>-0.267708</td>\n",
       "      <td>0.386479</td>\n",
       "      <td>0.488398</td>\n",
       "      <td>-0.674482</td>\n",
       "      <td>0.207757</td>\n",
       "      <td>0.333567</td>\n",
       "      <td>0.013542</td>\n",
       "      <td>-0.147986</td>\n",
       "      <td>-0.372082</td>\n",
       "      <td>0.000042</td>\n",
       "      <td>1.039270</td>\n",
       "      <td>0.415766</td>\n",
       "      <td>0.332573</td>\n",
       "      <td>0.020210</td>\n",
       "      <td>0.019627</td>\n",
       "      <td>3.99</td>\n",
       "      <td>0</td>\n",
       "      <td>-0.251659</td>\n",
       "      <td>0</td>\n",
       "      <td>0</td>\n",
       "      <td>1</td>\n",
       "      <td>75885.0</td>\n",
       "    </tr>\n",
       "  </tbody>\n",
       "</table>\n",
       "</div>"
      ],
      "text/plain": [
       "            Time        V1        V2        V3        V4        V5        V6  \\\n",
       "227330  145032.0  2.065855  0.096493 -1.884878  0.187637  0.712314 -0.278030   \n",
       "6058      6864.0 -0.715086  0.820304  2.894118  0.866743 -0.468314  0.022323   \n",
       "146349   87621.0 -0.486079  0.643577  0.431553 -0.796935  1.071179 -0.788250   \n",
       "222434  142969.0 -1.229895  0.850463  1.594567  3.059248  1.975758  0.087203   \n",
       "120603   75885.0  1.246470 -0.410488 -0.344760 -0.318696  1.440593  3.953925   \n",
       "\n",
       "              V7        V8        V9       V10       V11       V12       V13  \\\n",
       "227330  0.074736 -0.060307  0.262613 -0.209653  0.702755  0.692501  0.096957   \n",
       "6058    0.036171  0.151536  1.531076 -1.122087 -0.124112 -2.819011  0.805014   \n",
       "146349  0.917475 -0.091066 -0.146180 -0.793587 -1.359071 -1.047534 -1.525397   \n",
       "222434  0.781401 -0.126484 -2.219570  1.392486  0.302855 -0.636077 -0.610993   \n",
       "120603 -1.211885  1.073593  0.798845 -0.177568 -0.505484  0.268522  0.000316   \n",
       "\n",
       "             V14       V15       V16       V17       V18       V19       V20  \\\n",
       "227330 -0.683291 -0.463314  0.652735  0.044646  0.341933  0.524840 -0.126650   \n",
       "6058    1.133519 -0.618197 -0.049928  0.592028  0.494335 -0.154049 -0.115690   \n",
       "146349  0.688739  0.633574 -0.124710 -0.543460  0.403779 -0.131617 -0.132843   \n",
       "222434  0.429233 -0.551020  0.703127 -0.983837  0.574668 -0.467468 -0.088353   \n",
       "120603 -0.267708  0.386479  0.488398 -0.674482  0.207757  0.333567  0.013542   \n",
       "\n",
       "             V21       V22       V23       V24       V25       V26       V27  \\\n",
       "227330 -0.344294 -0.918936  0.266853 -0.002485 -0.222503  0.184126 -0.066980   \n",
       "6058   -0.166237 -0.131354 -0.264552  0.305702  0.280306 -0.412001  0.078148   \n",
       "146349  0.286305  0.712160 -0.413208  0.573718  0.428326 -0.105829  0.068605   \n",
       "222434  0.195361  0.615242 -0.727090 -0.384491  0.734687  0.370107 -0.198347   \n",
       "120603 -0.147986 -0.372082  0.000042  1.039270  0.415766  0.332573  0.020210   \n",
       "\n",
       "             V28  Amount  Class  Amount_scaled  Amount_1  Amount_100  Day  \\\n",
       "227330 -0.045439    1.98      0      -0.279746         0           0    2   \n",
       "6058    0.078279    9.99      0      -0.167819         0           0    1   \n",
       "146349  0.122048    2.27      0      -0.275693         0           0    2   \n",
       "222434 -0.207914   18.96      0      -0.042479         0           0    2   \n",
       "120603  0.019627    3.99      0      -0.251659         0           0    1   \n",
       "\n",
       "        Day_time  \n",
       "227330   58632.0  \n",
       "6058      6864.0  \n",
       "146349    1221.0  \n",
       "222434   56569.0  \n",
       "120603   75885.0  "
      ]
     },
     "execution_count": 5,
     "metadata": {},
     "output_type": "execute_result"
    }
   ],
   "source": [
    "df.sample(5)"
   ]
  },
  {
   "cell_type": "markdown",
   "metadata": {},
   "source": [
    "#### Podział danych"
   ]
  },
  {
   "cell_type": "code",
   "execution_count": 6,
   "metadata": {
    "collapsed": true
   },
   "outputs": [],
   "source": [
    "sp = StratifiedShuffleSplit(n_splits=1, test_size=0.3, random_state=2019)\n",
    "\n",
    "for train_index, test_index in sp.split(df, df['Class']):\n",
    "    train=df.loc[train_index]\n",
    "    test=df.loc[test_index]\n",
    "    \n",
    "train=train.reset_index()\n",
    "test=test.reset_index()"
   ]
  },
  {
   "cell_type": "code",
   "execution_count": 13,
   "metadata": {},
   "outputs": [
    {
     "name": "stdout",
     "output_type": "stream",
     "text": [
      "Percent of fraud in full data set: 0.17%\n",
      "Percent of fraud in train data set: 0.17%\n",
      "Percent of fraud in test data set: 0.17%\n"
     ]
    }
   ],
   "source": [
    "print('Percent of fraud in full data set: {}%'.format(round(df['Class'].value_counts(normalize=True)[1]*100,2)))\n",
    "print('Percent of fraud in train data set: {}%'.format(round(train['Class'].value_counts(normalize=True)[1]*100,2)))\n",
    "print('Percent of fraud in test data set: {}%'.format(round(test['Class'].value_counts(normalize=True)[1]*100,2)))"
   ]
  },
  {
   "cell_type": "markdown",
   "metadata": {},
   "source": [
    "#### Cross validation"
   ]
  },
  {
   "cell_type": "code",
   "execution_count": 9,
   "metadata": {
    "collapsed": true
   },
   "outputs": [],
   "source": [
    "def my_cv (m, x, y):    \n",
    "    scores_r = []\n",
    "    scores_p = []\n",
    "    scores_f = []\n",
    "    \n",
    "    cv = StratifiedKFold(n_splits=5, random_state=2018, shuffle=True)  \n",
    "    \n",
    "    for train_idx, test_idx in cv.split(x,y): \n",
    "        model=clone(m)\n",
    "        model.fit(x.loc[train_idx], y[train_idx])\n",
    "        y_pred = model.predict (x.loc[test_idx])  \n",
    "        \n",
    "        score1 = recall_score(y[test_idx], y_pred)\n",
    "        score2 = precision_score(y[test_idx], y_pred)\n",
    "        score3 = f1_score(y[test_idx], y_pred)\n",
    "        \n",
    "        scores_r.append(score1)\n",
    "        scores_p.append(score2)\n",
    "        scores_f.append(score3) \n",
    "        \n",
    "    return np.mean(scores_r), np.mean(scores_p), np.mean(scores_f)"
   ]
  },
  {
   "cell_type": "code",
   "execution_count": 31,
   "metadata": {},
   "outputs": [
    {
     "name": "stdout",
     "output_type": "stream",
     "text": [
      "RandomForestClassifier   [ 0.76  0.95  0.84]\n",
      "LogisticRegression   [ 0.57  0.85  0.68]\n"
     ]
    }
   ],
   "source": [
    "black_list=['Class','Amount','Time']\n",
    "features=[x for x in df.columns if x not in black_list ]\n",
    "\n",
    "X_cv = train.loc[:,features]\n",
    "y_cv = train.loc[:,'Class']\n",
    "\n",
    "models=[RandomForestClassifier(random_state=2019),\n",
    "        LogisticRegression(random_state=2019)]\n",
    "\n",
    "for m in models:\n",
    "    print(type(m).__name__, ' ', np.round(my_cv(m, X_cv, y_cv),2))"
   ]
  },
  {
   "cell_type": "markdown",
   "metadata": {},
   "source": [
    "### Krzywe uczenia"
   ]
  },
  {
   "cell_type": "code",
   "execution_count": 36,
   "metadata": {
    "collapsed": true
   },
   "outputs": [],
   "source": [
    "def plot_learning_curve(estimator, X, y, ylim=None, cv=None,\n",
    "                        n_jobs=None, train_sizes=np.linspace(.1, 1.0, 5)):\n",
    "    plt.figure()\n",
    "    if ylim is not None:\n",
    "        plt.ylim(*ylim)\n",
    "    plt.xlabel(\"Training examples\")\n",
    "    plt.ylabel(\"Score\")\n",
    "    train_sizes, train_scores, test_scores = learning_curve(estimator, X, y, cv=cv, n_jobs=n_jobs,\n",
    "                                                            train_sizes=train_sizes,scoring='f1')\n",
    "    train_scores_mean = np.mean(train_scores, axis=1)\n",
    "    train_scores_std = np.std(train_scores, axis=1)\n",
    "    test_scores_mean = np.mean(test_scores, axis=1)\n",
    "    test_scores_std = np.std(test_scores, axis=1)\n",
    "    plt.grid()\n",
    "    plt.fill_between(train_sizes, train_scores_mean - train_scores_std,\n",
    "                     train_scores_mean + train_scores_std, alpha=0.1, color=\"r\")\n",
    "    plt.fill_between(train_sizes, test_scores_mean - test_scores_std,\n",
    "                     test_scores_mean + test_scores_std, alpha=0.1, color=\"g\")\n",
    "    plt.plot(train_sizes, train_scores_mean, 'o-', color=\"r\",label=\"Training score\")\n",
    "    plt.plot(train_sizes, test_scores_mean, 'o-', color=\"g\",label=\"Cross-validation score\")\n",
    "    plt.title(type(estimator).__name__)\n",
    "    plt.legend(loc=\"best\")\n",
    "    return plt"
   ]
  },
  {
   "cell_type": "markdown",
   "metadata": {},
   "source": [
    "#### Overfitting !!!"
   ]
  },
  {
   "cell_type": "code",
   "execution_count": 44,
   "metadata": {},
   "outputs": [
    {
     "data": {
      "image/png": "[encoded data removed]",
      "text/plain": [
       "<matplotlib.figure.Figure at 0x14556d97be0>"
      ]
     },
     "metadata": {},
     "output_type": "display_data"
    },
    {
     "data": {
      "image/png": "[encoded data removed]",
      "text/plain": [
       "<matplotlib.figure.Figure at 0x14555f13198>"
      ]
     },
     "metadata": {},
     "output_type": "display_data"
    }
   ],
   "source": [
    "cv=StratifiedKFold(n_splits=4, random_state=2019, shuffle=True)\n",
    "\n",
    "for m in [LogisticRegression(random_state=2019), RandomForestClassifier(random_state=2019)]:\n",
    "    plot_learning_curve(m, X_cv, y_cv, ylim=(0.5, 1.01), cv=cv)"
   ]
  },
  {
   "cell_type": "code",
   "execution_count": 45,
   "metadata": {},
   "outputs": [
    {
     "data": {
      "image/png": "[encoded data removed]",
      "text/plain": [
       "<matplotlib.figure.Figure at 0x14556d97a58>"
      ]
     },
     "metadata": {},
     "output_type": "display_data"
    },
    {
     "data": {
      "image/png": "[encoded data removed]",
      "text/plain": [
       "<matplotlib.figure.Figure at 0x14555faa6d8>"
      ]
     },
     "metadata": {},
     "output_type": "display_data"
    }
   ],
   "source": [
    "models=[LogisticRegression(solver='lbfgs', C=0.1, random_state=2019),\n",
    "        RandomForestClassifier(max_depth=7, n_estimators=120, random_state=2019)]\n",
    "\n",
    "cv=StratifiedKFold(n_splits=4, random_state=2019, shuffle=True)\n",
    "\n",
    "for m in models:\n",
    "    plot_learning_curve(m, X_cv, y_cv, ylim=(0.5, 1.01), cv=cv)"
   ]
  },
  {
   "cell_type": "code",
   "execution_count": 32,
   "metadata": {},
   "outputs": [
    {
     "name": "stdout",
     "output_type": "stream",
     "text": [
      "RandomForestClassifier   [ 0.75  0.93  0.83]\n",
      "LogisticRegression   [ 0.65  0.81  0.72]\n"
     ]
    }
   ],
   "source": [
    "models=[RandomForestClassifier(max_depth=7, n_estimators=120, random_state=2019),\n",
    "        LogisticRegression(solver='lbfgs', C=0.1, random_state=2019)]\n",
    "\n",
    "for m in models:\n",
    "    print(type(m).__name__, ' ', np.round(my_cv(m, X_cv, y_cv),2))"
   ]
  },
  {
   "cell_type": "code",
   "execution_count": 10,
   "metadata": {
    "collapsed": true
   },
   "outputs": [],
   "source": [
    "def validation(model, df_train=None, df_test=None, matrix=True):\n",
    "    \n",
    "    black_list=['Class','Amount','Time']\n",
    "    features=[x for x in df.columns if x not in black_list ]   \n",
    "    X = df_train.loc[:,features].values \n",
    "    y = df_train['Class'].values\n",
    " \n",
    "    X_test = df_test.loc[:,features].values\n",
    "    y_test = df_test['Class'].values\n",
    "    \n",
    "    print(type(model).__name__)\n",
    "    model.fit(X, y)\n",
    "    y_pred=model.predict(X_test)\n",
    "\n",
    "    if matrix==True:\n",
    "        print('confusion matrix','\\n', confusion_matrix(y_test,y_pred))    \n",
    "        \n",
    "    rec=np.round(recall_score(y_test,y_pred),3)\n",
    "    prec=np.round(precision_score(y_test,y_pred),3)\n",
    "    f1=np.round(f1_score(y_test,y_pred),3)\n",
    "    \n",
    "    return rec, prec, f1   "
   ]
  },
  {
   "cell_type": "code",
   "execution_count": 35,
   "metadata": {
    "scrolled": true
   },
   "outputs": [
    {
     "name": "stdout",
     "output_type": "stream",
     "text": [
      "RandomForestClassifier\n",
      "confusion matrix \n",
      " [[85289     6]\n",
      " [   37   111]]\n",
      "(rec, prec, f1) [ 0.75   0.949  0.838] \n",
      "\n",
      "LogisticRegression\n",
      "confusion matrix \n",
      " [[85269    26]\n",
      " [   42   106]]\n",
      "(rec, prec, f1) [ 0.716  0.803  0.757] \n",
      "\n"
     ]
    }
   ],
   "source": [
    "for m in models:\n",
    "    print('(rec, prec, f1)', np.round(validation(m, train, test), 3) ,'\\n')"
   ]
  },
  {
   "cell_type": "markdown",
   "metadata": {},
   "source": [
    "### Precision recall curves"
   ]
  },
  {
   "cell_type": "code",
   "execution_count": 49,
   "metadata": {
    "collapsed": true
   },
   "outputs": [],
   "source": [
    "def plot_precision_vs_recall(precisions, recalls):\n",
    "    \n",
    "    plt.plot(recalls, precisions, \"b-\", linewidth=2)\n",
    "    \n",
    "    plt.xlabel(\"Recall\", fontsize=14)\n",
    "    plt.ylabel(\"Precision\", fontsize=14)    \n",
    "    plt.axis([0, 1, 0, 1])"
   ]
  },
  {
   "cell_type": "code",
   "execution_count": 50,
   "metadata": {},
   "outputs": [
    {
     "name": "stdout",
     "output_type": "stream",
     "text": [
      "RandomForestClassifier\n"
     ]
    },
    {
     "data": {
      "image/png": "[encoded data removed]",
      "text/plain": [
       "<matplotlib.figure.Figure at 0x14555eb56d8>"
      ]
     },
     "metadata": {},
     "output_type": "display_data"
    },
    {
     "name": "stdout",
     "output_type": "stream",
     "text": [
      "LogisticRegression\n"
     ]
    },
    {
     "data": {
      "image/png": "[encoded data removed]",
      "text/plain": [
       "<matplotlib.figure.Figure at 0x1455619f438>"
      ]
     },
     "metadata": {},
     "output_type": "display_data"
    }
   ],
   "source": [
    "from sklearn.model_selection import cross_val_score, cross_val_predict\n",
    "\n",
    "for m in models:\n",
    "    y_predict= cross_val_predict(m, X_cv, y_cv, method='predict_proba', cv=5)\n",
    "    y_pred= y_predict[:,-1]\n",
    "    \n",
    "    precisions, recalls, thresholds = precision_recall_curve(y_cv, y_pred) \n",
    "    \n",
    "    plt.figure(figsize=(6, 4))\n",
    "    print(type(m).__name__)\n",
    "    \n",
    "    #plot precision recall\n",
    "    plot_precision_vs_recall(precisions, recalls)\n",
    "    plt.show()"
   ]
  },
  {
   "cell_type": "code",
   "execution_count": 51,
   "metadata": {
    "collapsed": true
   },
   "outputs": [],
   "source": [
    "def plot_precision_recall_vs_threshold(precisions, recalls, thresholds):\n",
    "    \n",
    "    plt.plot(thresholds, precisions[:-1], \"b--\", label=\"Precision\", linewidth=2)\n",
    "    plt.plot(thresholds, recalls[:-1], \"g-\", label=\"Recall\", linewidth=2)\n",
    "    \n",
    "    plt.xlabel(\"Threshold\", fontsize=12)\n",
    "    plt.legend(loc=\"down right\", fontsize=10)"
   ]
  },
  {
   "cell_type": "code",
   "execution_count": 52,
   "metadata": {},
   "outputs": [
    {
     "name": "stdout",
     "output_type": "stream",
     "text": [
      "RandomForestClassifier\n"
     ]
    },
    {
     "data": {
      "image/png": "[encoded data removed]",
      "text/plain": [
       "<matplotlib.figure.Figure at 0x145561c62e8>"
      ]
     },
     "metadata": {},
     "output_type": "display_data"
    },
    {
     "name": "stdout",
     "output_type": "stream",
     "text": [
      "LogisticRegression\n"
     ]
    },
    {
     "data": {
      "image/png": "[encoded data removed]",
      "text/plain": [
       "<matplotlib.figure.Figure at 0x145561628d0>"
      ]
     },
     "metadata": {},
     "output_type": "display_data"
    }
   ],
   "source": [
    "for m in models:\n",
    "    y_predict = cross_val_predict(m, X_cv, y_cv, cv=5, method='predict_proba')\n",
    "    y_pred = y_predict[:,-1]\n",
    "    \n",
    "    precisions, recalls, thresholds = precision_recall_curve(y_cv, y_pred)  \n",
    "    \n",
    "    plt.figure(figsize=(6, 4))\n",
    "    print(type(m).__name__)\n",
    "    \n",
    "    plot_precision_recall_vs_threshold(precisions, recalls, thresholds)\n",
    "    plt.show()"
   ]
  },
  {
   "cell_type": "markdown",
   "metadata": {},
   "source": [
    "## Undersampling"
   ]
  },
  {
   "cell_type": "markdown",
   "metadata": {},
   "source": [
    "![title](img/u.png)"
   ]
  },
  {
   "cell_type": "markdown",
   "metadata": {},
   "source": [
    "1. Ustal liczbę fraudów \n",
    "2. Podziel na fraudy i nie-fraudy\n",
    "3. Wybierz tyle obserwacji \"normalnych\" ile mamy fraudów\n",
    "4. Połącz dwa zbiory indeksów"
   ]
  },
  {
   "cell_type": "code",
   "execution_count": 32,
   "metadata": {
    "collapsed": true
   },
   "outputs": [],
   "source": []
  },
  {
   "cell_type": "code",
   "execution_count": 33,
   "metadata": {},
   "outputs": [
    {
     "data": {
      "text/html": [
       "<div>\n",
       "<style>\n",
       "    .dataframe thead tr:only-child th {\n",
       "        text-align: right;\n",
       "    }\n",
       "\n",
       "    .dataframe thead th {\n",
       "        text-align: left;\n",
       "    }\n",
       "\n",
       "    .dataframe tbody tr th {\n",
       "        vertical-align: top;\n",
       "    }\n",
       "</style>\n",
       "<table border=\"1\" class=\"dataframe\">\n",
       "  <thead>\n",
       "    <tr style=\"text-align: right;\">\n",
       "      <th></th>\n",
       "      <th>index</th>\n",
       "      <th>Time</th>\n",
       "      <th>V1</th>\n",
       "      <th>V2</th>\n",
       "      <th>V3</th>\n",
       "      <th>V4</th>\n",
       "      <th>V5</th>\n",
       "      <th>V6</th>\n",
       "      <th>V7</th>\n",
       "      <th>V8</th>\n",
       "      <th>V9</th>\n",
       "      <th>V10</th>\n",
       "      <th>V11</th>\n",
       "      <th>V12</th>\n",
       "      <th>V13</th>\n",
       "      <th>V14</th>\n",
       "      <th>V15</th>\n",
       "      <th>V16</th>\n",
       "      <th>V17</th>\n",
       "      <th>V18</th>\n",
       "      <th>V19</th>\n",
       "      <th>V20</th>\n",
       "      <th>V21</th>\n",
       "      <th>V22</th>\n",
       "      <th>V23</th>\n",
       "      <th>V24</th>\n",
       "      <th>V25</th>\n",
       "      <th>V26</th>\n",
       "      <th>V27</th>\n",
       "      <th>V28</th>\n",
       "      <th>Amount</th>\n",
       "      <th>Class</th>\n",
       "      <th>Amount_scaled</th>\n",
       "      <th>Amount_1</th>\n",
       "      <th>Amount_100</th>\n",
       "      <th>Day</th>\n",
       "      <th>Day_time</th>\n",
       "    </tr>\n",
       "  </thead>\n",
       "  <tbody>\n",
       "    <tr>\n",
       "      <th>182324</th>\n",
       "      <td>257020</td>\n",
       "      <td>157964.0</td>\n",
       "      <td>1.943661</td>\n",
       "      <td>0.070354</td>\n",
       "      <td>-0.234684</td>\n",
       "      <td>1.213840</td>\n",
       "      <td>-0.273840</td>\n",
       "      <td>-0.388226</td>\n",
       "      <td>-0.298324</td>\n",
       "      <td>-0.064429</td>\n",
       "      <td>0.484245</td>\n",
       "      <td>0.185720</td>\n",
       "      <td>-0.192326</td>\n",
       "      <td>0.973849</td>\n",
       "      <td>1.188233</td>\n",
       "      <td>-0.028922</td>\n",
       "      <td>0.947882</td>\n",
       "      <td>0.410146</td>\n",
       "      <td>-0.755566</td>\n",
       "      <td>-0.338092</td>\n",
       "      <td>-0.824688</td>\n",
       "      <td>-0.167115</td>\n",
       "      <td>-0.102525</td>\n",
       "      <td>-0.232049</td>\n",
       "      <td>0.459978</td>\n",
       "      <td>1.031220</td>\n",
       "      <td>-0.423349</td>\n",
       "      <td>-1.022945</td>\n",
       "      <td>0.055202</td>\n",
       "      <td>-0.011494</td>\n",
       "      <td>5.00</td>\n",
       "      <td>0</td>\n",
       "      <td>-0.237546</td>\n",
       "      <td>0</td>\n",
       "      <td>0</td>\n",
       "      <td>2</td>\n",
       "      <td>71564.0</td>\n",
       "    </tr>\n",
       "    <tr>\n",
       "      <th>68726</th>\n",
       "      <td>192273</td>\n",
       "      <td>129621.0</td>\n",
       "      <td>2.132327</td>\n",
       "      <td>0.216307</td>\n",
       "      <td>-2.624364</td>\n",
       "      <td>-0.030806</td>\n",
       "      <td>1.112103</td>\n",
       "      <td>-1.325215</td>\n",
       "      <td>1.092048</td>\n",
       "      <td>-0.668370</td>\n",
       "      <td>-0.113247</td>\n",
       "      <td>-0.036806</td>\n",
       "      <td>-0.575269</td>\n",
       "      <td>0.972700</td>\n",
       "      <td>1.308747</td>\n",
       "      <td>0.565649</td>\n",
       "      <td>-0.160625</td>\n",
       "      <td>-1.083309</td>\n",
       "      <td>-0.154262</td>\n",
       "      <td>-0.798756</td>\n",
       "      <td>0.173146</td>\n",
       "      <td>-0.103229</td>\n",
       "      <td>0.298020</td>\n",
       "      <td>1.088916</td>\n",
       "      <td>-0.209922</td>\n",
       "      <td>0.742313</td>\n",
       "      <td>0.820029</td>\n",
       "      <td>0.430669</td>\n",
       "      <td>-0.097799</td>\n",
       "      <td>-0.079296</td>\n",
       "      <td>20.12</td>\n",
       "      <td>0</td>\n",
       "      <td>-0.026270</td>\n",
       "      <td>0</td>\n",
       "      <td>0</td>\n",
       "      <td>2</td>\n",
       "      <td>43221.0</td>\n",
       "    </tr>\n",
       "    <tr>\n",
       "      <th>41995</th>\n",
       "      <td>101509</td>\n",
       "      <td>67857.0</td>\n",
       "      <td>-1.739334</td>\n",
       "      <td>-1.304655</td>\n",
       "      <td>0.314103</td>\n",
       "      <td>0.053740</td>\n",
       "      <td>-0.058696</td>\n",
       "      <td>0.071260</td>\n",
       "      <td>0.694862</td>\n",
       "      <td>-0.313270</td>\n",
       "      <td>-0.649377</td>\n",
       "      <td>0.517568</td>\n",
       "      <td>-1.356558</td>\n",
       "      <td>-0.238383</td>\n",
       "      <td>0.069579</td>\n",
       "      <td>-0.431690</td>\n",
       "      <td>-0.674724</td>\n",
       "      <td>-1.654162</td>\n",
       "      <td>-0.053961</td>\n",
       "      <td>0.520746</td>\n",
       "      <td>-1.554562</td>\n",
       "      <td>-1.463994</td>\n",
       "      <td>-0.665172</td>\n",
       "      <td>-0.632078</td>\n",
       "      <td>-0.421176</td>\n",
       "      <td>-0.400774</td>\n",
       "      <td>-0.001640</td>\n",
       "      <td>-0.495162</td>\n",
       "      <td>0.031633</td>\n",
       "      <td>0.066280</td>\n",
       "      <td>320.00</td>\n",
       "      <td>1</td>\n",
       "      <td>4.164047</td>\n",
       "      <td>0</td>\n",
       "      <td>0</td>\n",
       "      <td>1</td>\n",
       "      <td>67857.0</td>\n",
       "    </tr>\n",
       "    <tr>\n",
       "      <th>104970</th>\n",
       "      <td>258403</td>\n",
       "      <td>158638.0</td>\n",
       "      <td>-5.976119</td>\n",
       "      <td>-7.196980</td>\n",
       "      <td>-5.388316</td>\n",
       "      <td>5.104799</td>\n",
       "      <td>4.676533</td>\n",
       "      <td>-5.566870</td>\n",
       "      <td>-4.291180</td>\n",
       "      <td>0.876531</td>\n",
       "      <td>-1.075478</td>\n",
       "      <td>-3.272569</td>\n",
       "      <td>1.168216</td>\n",
       "      <td>-2.134732</td>\n",
       "      <td>1.128313</td>\n",
       "      <td>-4.566010</td>\n",
       "      <td>-0.126950</td>\n",
       "      <td>-2.826986</td>\n",
       "      <td>-2.865750</td>\n",
       "      <td>-0.912934</td>\n",
       "      <td>0.421144</td>\n",
       "      <td>3.136338</td>\n",
       "      <td>1.459369</td>\n",
       "      <td>-0.136262</td>\n",
       "      <td>0.848177</td>\n",
       "      <td>-0.269916</td>\n",
       "      <td>-1.095060</td>\n",
       "      <td>-0.710905</td>\n",
       "      <td>0.565846</td>\n",
       "      <td>-1.034107</td>\n",
       "      <td>296.00</td>\n",
       "      <td>1</td>\n",
       "      <td>3.828687</td>\n",
       "      <td>0</td>\n",
       "      <td>0</td>\n",
       "      <td>2</td>\n",
       "      <td>72238.0</td>\n",
       "    </tr>\n",
       "  </tbody>\n",
       "</table>\n",
       "</div>"
      ],
      "text/plain": [
       "         index      Time        V1        V2        V3        V4        V5  \\\n",
       "182324  257020  157964.0  1.943661  0.070354 -0.234684  1.213840 -0.273840   \n",
       "68726   192273  129621.0  2.132327  0.216307 -2.624364 -0.030806  1.112103   \n",
       "41995   101509   67857.0 -1.739334 -1.304655  0.314103  0.053740 -0.058696   \n",
       "104970  258403  158638.0 -5.976119 -7.196980 -5.388316  5.104799  4.676533   \n",
       "\n",
       "              V6        V7        V8        V9       V10       V11       V12  \\\n",
       "182324 -0.388226 -0.298324 -0.064429  0.484245  0.185720 -0.192326  0.973849   \n",
       "68726  -1.325215  1.092048 -0.668370 -0.113247 -0.036806 -0.575269  0.972700   \n",
       "41995   0.071260  0.694862 -0.313270 -0.649377  0.517568 -1.356558 -0.238383   \n",
       "104970 -5.566870 -4.291180  0.876531 -1.075478 -3.272569  1.168216 -2.134732   \n",
       "\n",
       "             V13       V14       V15       V16       V17       V18       V19  \\\n",
       "182324  1.188233 -0.028922  0.947882  0.410146 -0.755566 -0.338092 -0.824688   \n",
       "68726   1.308747  0.565649 -0.160625 -1.083309 -0.154262 -0.798756  0.173146   \n",
       "41995   0.069579 -0.431690 -0.674724 -1.654162 -0.053961  0.520746 -1.554562   \n",
       "104970  1.128313 -4.566010 -0.126950 -2.826986 -2.865750 -0.912934  0.421144   \n",
       "\n",
       "             V20       V21       V22       V23       V24       V25       V26  \\\n",
       "182324 -0.167115 -0.102525 -0.232049  0.459978  1.031220 -0.423349 -1.022945   \n",
       "68726  -0.103229  0.298020  1.088916 -0.209922  0.742313  0.820029  0.430669   \n",
       "41995  -1.463994 -0.665172 -0.632078 -0.421176 -0.400774 -0.001640 -0.495162   \n",
       "104970  3.136338  1.459369 -0.136262  0.848177 -0.269916 -1.095060 -0.710905   \n",
       "\n",
       "             V27       V28  Amount  Class  Amount_scaled  Amount_1  \\\n",
       "182324  0.055202 -0.011494    5.00      0      -0.237546         0   \n",
       "68726  -0.097799 -0.079296   20.12      0      -0.026270         0   \n",
       "41995   0.031633  0.066280  320.00      1       4.164047         0   \n",
       "104970  0.565846 -1.034107  296.00      1       3.828687         0   \n",
       "\n",
       "        Amount_100  Day  Day_time  \n",
       "182324           0    2   71564.0  \n",
       "68726            0    2   43221.0  \n",
       "41995            0    1   67857.0  \n",
       "104970           0    2   72238.0  "
      ]
     },
     "execution_count": 33,
     "metadata": {},
     "output_type": "execute_result"
    }
   ],
   "source": [
    "und_df.head(4)"
   ]
  },
  {
   "cell_type": "code",
   "execution_count": 7,
   "metadata": {},
   "outputs": [],
   "source": [
    "#Rozkład zmiennej docelowej\n"
   ]
  },
  {
   "cell_type": "code",
   "execution_count": null,
   "metadata": {
    "collapsed": true
   },
   "outputs": [],
   "source": [
    "black_list=['Class','Time','Amount']\n",
    "features=[x for x in und_df.columns if x not in black_list ]\n",
    "X = und_df.loc[:,features].values\n",
    "y = und_df['Class'].values\n",
    "\n",
    "models=[LogisticRegression(random_state=2019),\n",
    "        RandomForestClassifier(random_state=2019)]\n",
    "\n",
    "print('     Model      (accuracy, recall, precision, f1)  ')\n",
    "for m in models:\n",
    "    print(type(m).__name__,  )"
   ]
  },
  {
   "cell_type": "markdown",
   "metadata": {},
   "source": [
    "![title](img/undersam.png)"
   ]
  },
  {
   "cell_type": "markdown",
   "metadata": {},
   "source": [
    "![title](img/undersam2.png)"
   ]
  },
  {
   "cell_type": "code",
   "execution_count": 52,
   "metadata": {
    "collapsed": true
   },
   "outputs": [],
   "source": [
    "#Undersampling\n"
   ]
  },
  {
   "cell_type": "code",
   "execution_count": 53,
   "metadata": {
    "collapsed": true
   },
   "outputs": [],
   "source": [
    "def cv_undersampling (m, xc, yc):\n",
    "\n",
    "        \n",
    "    return np.mean(scores_r), np.mean(scores_p)"
   ]
  },
  {
   "cell_type": "code",
   "execution_count": null,
   "metadata": {
    "collapsed": true
   },
   "outputs": [],
   "source": [
    "black_list=['Class','Time','Amount']\n",
    "features=[x for x in df.columns if x not in black_list ]\n",
    "X_cv = train.loc[:,features]\n",
    "y_cv = train.loc[:,'Class']\n",
    "\n",
    "for m in [RandomForestClassifier(max_depth=9, n_estimators=110, random_state=2019),\n",
    "          LogisticRegression(C=0.1,random_state=2019)]:\n",
    "    print(type(m).__name__,'(recall, precision)', )"
   ]
  },
  {
   "cell_type": "code",
   "execution_count": null,
   "metadata": {
    "collapsed": true
   },
   "outputs": [],
   "source": [
    "for m in [RandomForestClassifier(max_depth=7, n_estimators=110, random_state=2019),\n",
    "          LogisticRegression(C=0.1, random_state=2019)]:\n",
    "    print('(rec,prec,f1)', )"
   ]
  },
  {
   "cell_type": "markdown",
   "metadata": {},
   "source": [
    "## Oversampling"
   ]
  },
  {
   "cell_type": "markdown",
   "metadata": {},
   "source": [
    "![title](img/o.png)"
   ]
  },
  {
   "cell_type": "markdown",
   "metadata": {},
   "source": [
    "###  SMOTE"
   ]
  },
  {
   "cell_type": "code",
   "execution_count": 56,
   "metadata": {
    "collapsed": true
   },
   "outputs": [],
   "source": [
    "#conda install -c conda-forge imbalanced-learn\n",
    "from imblearn.over_sampling import SMOTE"
   ]
  },
  {
   "cell_type": "markdown",
   "metadata": {},
   "source": [
    "![title](img/s.png)"
   ]
  },
  {
   "cell_type": "code",
   "execution_count": 57,
   "metadata": {
    "collapsed": true
   },
   "outputs": [],
   "source": [
    "black_list=['Class','Time','Amount']\n",
    "features=[x for x in df.columns if x not in black_list ]\n",
    "\n",
    "Xs = train.loc[:,features].values \n",
    "ys = train['Class'].values"
   ]
  },
  {
   "cell_type": "code",
   "execution_count": 58,
   "metadata": {
    "collapsed": true
   },
   "outputs": [],
   "source": [
    "#Dogenerowanie danych\n"
   ]
  },
  {
   "cell_type": "code",
   "execution_count": 64,
   "metadata": {},
   "outputs": [
    {
     "name": "stdout",
     "output_type": "stream",
     "text": [
      "number of fraud in oversampled dataset: 199020\n",
      "number of non fraud in oversampled dataset: 199020\n"
     ]
    }
   ],
   "source": [
    "train_overs = pd.DataFrame(data=np.concatenate([X_resampled, y_resampled.reshape(-1,1)], axis=1), columns=features+['Class'])\n",
    "\n",
    "print('number of fraud in oversampled dataset: {}'.format(len(X_resampled[y_resampled==1])))\n",
    "print('number of non fraud in oversampled dataset: {}'.format(len(X_resampled[y_resampled==0])))"
   ]
  },
  {
   "cell_type": "markdown",
   "metadata": {},
   "source": [
    "![title](img/oversam.png)"
   ]
  },
  {
   "cell_type": "code",
   "execution_count": 13,
   "metadata": {
    "collapsed": true
   },
   "outputs": [],
   "source": [
    "def my_cv_os (m, xc, yc):\n",
    "\n",
    "      \n",
    "    return np.mean(scores_r), np.mean(scores_p)"
   ]
  },
  {
   "cell_type": "code",
   "execution_count": 16,
   "metadata": {
    "collapsed": true
   },
   "outputs": [],
   "source": [
    "models=[RandomForestClassifier(max_depth=10, n_estimators=120, random_state=2019),\n",
    "        LogisticRegression(solver='lbfgs', C=0.1, random_state=2019)]"
   ]
  },
  {
   "cell_type": "code",
   "execution_count": null,
   "metadata": {
    "collapsed": true
   },
   "outputs": [],
   "source": [
    "black_list=['Class','Time','Amount']\n",
    "features=[x for x in df.columns if x not in black_list ]\n",
    "\n",
    "X_cv = train.loc[:,features]\n",
    "y_cv = train.loc[:,'Class']\n",
    "\n",
    "for m in models:\n",
    "    print(type(m).__name__,' [recall, precision] ', np.round(my_cv_os(m, X_cv, y_cv), 3))"
   ]
  },
  {
   "cell_type": "code",
   "execution_count": null,
   "metadata": {
    "collapsed": true
   },
   "outputs": [],
   "source": [
    "for m in models:\n",
    "    print('[rec, prec, f1]', np.round(validation(m, train_overs, test), 3),'\\n')"
   ]
  },
  {
   "cell_type": "markdown",
   "metadata": {},
   "source": [
    " ### Podsumowanie "
   ]
  },
  {
   "cell_type": "markdown",
   "metadata": {},
   "source": [
    "![title](img/summary.png)"
   ]
  },
  {
   "cell_type": "markdown",
   "metadata": {},
   "source": [
    "### DNN"
   ]
  },
  {
   "cell_type": "code",
   "execution_count": 20,
   "metadata": {
    "collapsed": true
   },
   "outputs": [],
   "source": [
    "black_list=['Class','Amount_1','Amount_100']\n",
    "num=[x for x in df.columns if x not in black_list ]\n",
    "\n",
    "df_nn=df.copy()\n",
    "df_nn[num]=StandardScaler().fit_transform(df[num])"
   ]
  },
  {
   "cell_type": "code",
   "execution_count": 22,
   "metadata": {
    "collapsed": true
   },
   "outputs": [],
   "source": [
    "sp = StratifiedShuffleSplit(n_splits=1, test_size=0.3, random_state=2019)\n",
    "\n",
    "for train_index, test_index in sp.split(df_nn, df_nn['Class']):\n",
    "    train=df_nn.loc[train_index]\n",
    "    test=df_nn.loc[test_index]\n",
    "    \n",
    "train=train.reset_index()\n",
    "test=test.reset_index()\n",
    "del test['index']\n",
    "del test['Time']\n",
    "\n",
    "black_list=['Class','Time','Amount']\n",
    "features=[x for x in df_nn.columns if x not in black_list ]\n",
    "\n",
    "Xs = train.loc[:,features].values \n",
    "ys = train['Class'].values"
   ]
  },
  {
   "cell_type": "code",
   "execution_count": 23,
   "metadata": {
    "collapsed": true
   },
   "outputs": [],
   "source": [
    "smote = SMOTE(random_state=2019, sampling_strategy='minority')\n",
    "X_resampled, y_resampled = smote.fit_sample(Xs, ys)"
   ]
  },
  {
   "cell_type": "code",
   "execution_count": 24,
   "metadata": {},
   "outputs": [
    {
     "name": "stdout",
     "output_type": "stream",
     "text": [
      "Number of fraud in undersampled set: 199020\n",
      "Number of non fraud in undersampled set: 199020\n"
     ]
    }
   ],
   "source": [
    "train_overs = pd.DataFrame(data=np.concatenate([X_resampled, y_resampled.reshape(-1,1)], axis=1), columns=features+['Class'])\n",
    "\n",
    "print('Number of fraud in undersampled set: {}'.format(len(X_resampled[y_resampled==1])))\n",
    "print('Number of non fraud in undersampled set: {}'.format(len(X_resampled[y_resampled==0])))"
   ]
  },
  {
   "cell_type": "code",
   "execution_count": 25,
   "metadata": {
    "collapsed": true
   },
   "outputs": [],
   "source": [
    "X_train = train_overs.loc[:,features]\n",
    "y_train = train_overs['Class']\n",
    "\n",
    "X_valid = test.loc[:,features]\n",
    "y_valid = test['Class']"
   ]
  },
  {
   "cell_type": "markdown",
   "metadata": {},
   "source": [
    "### Tensorflow implementation"
   ]
  },
  {
   "cell_type": "code",
   "execution_count": 41,
   "metadata": {
    "collapsed": true
   },
   "outputs": [],
   "source": [
    "import tensorflow as tf"
   ]
  },
  {
   "cell_type": "markdown",
   "metadata": {},
   "source": [
    "![title](img/nn.png)"
   ]
  },
  {
   "cell_type": "code",
   "execution_count": 42,
   "metadata": {
    "collapsed": true
   },
   "outputs": [],
   "source": [
    "tf.reset_default_graph()"
   ]
  },
  {
   "cell_type": "code",
   "execution_count": 43,
   "metadata": {
    "collapsed": true
   },
   "outputs": [],
   "source": [
    "n_inputs = X_train.shape[1]\n",
    "n_hidden1 = 300\n",
    "n_hidden2 = 200\n",
    "n_hidden3 = 100\n",
    "n_outputs = 2"
   ]
  },
  {
   "cell_type": "code",
   "execution_count": 44,
   "metadata": {
    "collapsed": true
   },
   "outputs": [],
   "source": [
    "X = tf.placeholder(tf.float32, shape=(None, n_inputs), name=\"X\")\n",
    "y = tf.placeholder(tf.int64, shape=(None), name=\"y\") "
   ]
  },
  {
   "cell_type": "code",
   "execution_count": 45,
   "metadata": {
    "collapsed": true
   },
   "outputs": [],
   "source": [
    "with tf.name_scope(\"gsn\"):\n",
    "    he_init = tf.contrib.layers.variance_scaling_initializer()\n",
    "    hidden1 = tf.layers.dense(X, n_hidden1, name=\"h1\",\n",
    "                              activation=tf.nn.elu, kernel_initializer=he_init)\n",
    "    hidden2 = tf.layers.dense(hidden1, n_hidden2, name=\"h2\",\n",
    "                              activation=tf.nn.elu, kernel_initializer=he_init)\n",
    "    hidden3 = tf.layers.dense(hidden2, n_hidden3, name=\"h3\",\n",
    "                              activation=tf.nn.elu, kernel_initializer=he_init)\n",
    "    logits = tf.layers.dense(hidden3, n_outputs, name=\"out\")"
   ]
  },
  {
   "cell_type": "code",
   "execution_count": 46,
   "metadata": {
    "collapsed": true
   },
   "outputs": [],
   "source": [
    "with tf.name_scope(\"loss\"):\n",
    "    xentropy = tf.nn.sparse_softmax_cross_entropy_with_logits(labels=y, logits=logits)\n",
    "    loss = tf.reduce_mean(xentropy, name=\"loss\")"
   ]
  },
  {
   "cell_type": "code",
   "execution_count": 47,
   "metadata": {
    "collapsed": true
   },
   "outputs": [],
   "source": [
    "learning_rate = 0.001\n",
    "\n",
    "with tf.name_scope(\"learn\"):\n",
    "    optimizer = tf.train.AdamOptimizer(learning_rate=learning_rate)\n",
    "    training_op = optimizer.minimize(loss)"
   ]
  },
  {
   "cell_type": "code",
   "execution_count": 48,
   "metadata": {
    "collapsed": true
   },
   "outputs": [],
   "source": [
    "with tf.name_scope(\"estimation\"):\n",
    "    correct = tf.nn.in_top_k(logits, y, 1)\n",
    "    y_pred = tf.argmax(logits, 1)"
   ]
  },
  {
   "cell_type": "code",
   "execution_count": 49,
   "metadata": {
    "collapsed": true
   },
   "outputs": [],
   "source": [
    "def next_batch(x_= X_train.values, y_= y_train.values.ravel(), batch_size=1000):\n",
    "    indices = np.random.randint(len(x_), size=batch_size) \n",
    "    np.random.shuffle(indices)\n",
    "    return x_[indices], y_[indices]"
   ]
  },
  {
   "cell_type": "code",
   "execution_count": 50,
   "metadata": {
    "collapsed": true
   },
   "outputs": [],
   "source": [
    "init = tf.global_variables_initializer()\n",
    "saver = tf.train.Saver()"
   ]
  },
  {
   "cell_type": "code",
   "execution_count": 51,
   "metadata": {},
   "outputs": [
    {
     "name": "stdout",
     "output_type": "stream",
     "text": [
      "Epoch: 1 \n",
      "Validation:  \tLoss: 0.01243\n",
      "Precision: 34.04%  Recall: 86.49%\n",
      "Epoch: 2 \n",
      "Validation:  \tLoss: 0.00874\n",
      "Precision: 45.22%  Recall: 83.11%\n",
      "Epoch: 3 \n",
      "Validation:  \tLoss: 0.00816\n",
      "Precision: 68.11%  Recall: 85.14%\n",
      "Epoch: 4 \n",
      "Validation:  \tLoss: 0.00655\n",
      "Precision: 71.84%  Recall: 84.46%\n",
      "Epoch: 5 \n",
      "Validation:  \tLoss: 0.00721\n",
      "Precision: 74.25%  Recall: 83.78%\n",
      "Epoch: 6 \n",
      "Validation:  \tLoss: 0.00695\n",
      "Precision: 78.21%  Recall: 82.43%\n",
      "Epoch: 7 \n",
      "Validation:  \tLoss: 0.00777\n",
      "Precision: 70.95%  Recall: 85.81%\n",
      "Epoch: 8 \n",
      "Validation:  \tLoss: 0.01048\n",
      "Precision: 61.76%  Recall: 85.14%\n",
      "Epoch: 9 \n",
      "Validation:  \tLoss: 0.00935\n",
      "Precision: 77.16%  Recall: 84.46%\n",
      "Epoch: 10 \n",
      "Validation:  \tLoss: 0.00905\n",
      "Precision: 75.90%  Recall: 85.14%\n",
      "Epoch: 11 \n",
      "Validation:  \tLoss: 0.00805\n",
      "Precision: 78.26%  Recall: 85.14%\n",
      "Epoch: 12 \n",
      "Validation:  \tLoss: 0.01043\n",
      "Precision: 65.45%  Recall: 84.46%\n",
      "Epoch: 13 \n",
      "Validation:  \tLoss: 0.00847\n",
      "Precision: 86.01%  Recall: 83.11%\n",
      "Epoch: 14 \n",
      "Validation:  \tLoss: 0.00927\n",
      "Precision: 86.33%  Recall: 81.08%\n",
      "Epoch: 15 \n",
      "Validation:  \tLoss: 0.00809\n",
      "Precision: 78.85%  Recall: 83.11%\n",
      "Early stop\n"
     ]
    }
   ],
   "source": [
    "n_epochs = 50\n",
    "n_batches = 300\n",
    "batch_s = X_train.shape[0]//n_batches\n",
    "\n",
    "final_model_path = \"./fraud_dnn\"\n",
    "\n",
    "best_loss = np.infty\n",
    "epochs_without_progress = 0\n",
    "max_epochs_without_progress = 10\n",
    "\n",
    "with tf.Session() as sess:\n",
    "\n",
    "    start_epoch= 0\n",
    "    sess.run(init)\n",
    "        \n",
    "    for epoch in range(start_epoch, n_epochs):\n",
    "        for iteration in range(n_batches):\n",
    "            X_batch, y_batch = next_batch(batch_size= batch_s)\n",
    "            sess.run(training_op, feed_dict={X: X_batch, y: y_batch})\n",
    "        \n",
    "        y_predict, loss_val = sess.run([y_pred, loss], feed_dict={X: X_valid.values, y: y_valid.values.ravel()})\n",
    "        \n",
    "        if epoch % 1 == 0:\n",
    "            print(\"Epoch:\", epoch+1, \"\\nValidation: \",\"\\tLoss: {:.5f}\".format(loss_val))\n",
    "            print (\"Precision: {:.2f}%\".format(precision_score(y_valid.values, y_predict)*100),\n",
    "                   \" Recall: {:.2f}%\".format(recall_score(y_valid.values, y_predict)*100))\n",
    "            if loss_val < best_loss:\n",
    "                saver.save(sess, final_model_path)\n",
    "                best_loss = loss_val\n",
    "            else:\n",
    "                epochs_without_progress += 1\n",
    "                if epochs_without_progress > max_epochs_without_progress:\n",
    "                    print(\"Early stop\")\n",
    "                    break"
   ]
  },
  {
   "cell_type": "code",
   "execution_count": 52,
   "metadata": {},
   "outputs": [
    {
     "name": "stdout",
     "output_type": "stream",
     "text": [
      "INFO:tensorflow:Restoring parameters from ./fraud_dnn\n",
      "Precision: 71.84%  Recall: 84.46%  F1: 77.64%\n",
      "[[85246    49]\n",
      " [   23   125]]\n"
     ]
    }
   ],
   "source": [
    "with tf.Session() as sess:\n",
    "    saver.restore(sess, final_model_path)\n",
    "    y_predict = y_pred.eval(feed_dict={X: X_valid.values, y: y_valid.values.ravel()})\n",
    "    \n",
    "print (\"Precision: {:.2f}%\".format(precision_score(y_valid.values, y_predict)*100),\n",
    "      \" Recall: {:.2f}%\".format(recall_score(y_valid.values,y_predict)*100),\n",
    "      \" F1: {:.2f}%\".format(f1_score(y_valid.values,y_predict)*100))\n",
    "\n",
    "print(confusion_matrix(y_valid.values, y_predict))"
   ]
  }
 ],
 "metadata": {
  "kernelspec": {
   "display_name": "Python 3",
   "language": "python",
   "name": "python3"
  },
  "language_info": {
   "codemirror_mode": {
    "name": "ipython",
    "version": 3
   },
   "file_extension": ".py",
   "mimetype": "text/x-python",
   "name": "python",
   "nbconvert_exporter": "python",
   "pygments_lexer": "ipython3",
   "version": "3.6.3"
  }
 },
 "nbformat": 4,
 "nbformat_minor": 2
}
